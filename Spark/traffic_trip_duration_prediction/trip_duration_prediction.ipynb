{
 "cells": [
  {
   "cell_type": "code",
   "execution_count": 1,
   "metadata": {
    "collapsed": true
   },
   "outputs": [],
   "source": [
    "import pandas as pd\n",
    "import numpy as np\n",
    "import datetime as dt\n",
    "import matplotlib.pyplot as plt\n",
    "%matplotlib inline\n",
    "import seaborn as sns\n",
    "from pyspark import SparkContext,SparkConf\n",
    "from pyspark.sql import SQLContext,SparkSession\n",
    "from pyspark import sql\n",
    "from pyspark.sql.types import DoubleType\n",
    "from pyspark.sql import functions as F\n",
    "from pyspark.sql.functions import *"
   ]
  },
  {
   "cell_type": "code",
   "execution_count": 2,
   "metadata": {
    "collapsed": false
   },
   "outputs": [
    {
     "data": {
      "text/html": [
       "\n",
       "        <div>\n",
       "            <p><b>SparkContext</b></p>\n",
       "\n",
       "            <p><a href=\"http://master:4040\">Spark UI</a></p>\n",
       "\n",
       "            <dl>\n",
       "              <dt>Version</dt>\n",
       "                <dd><code>v2.4.3</code></dd>\n",
       "              <dt>Master</dt>\n",
       "                <dd><code>local[*]</code></dd>\n",
       "              <dt>AppName</dt>\n",
       "                <dd><code>PySparkShell</code></dd>\n",
       "            </dl>\n",
       "        </div>\n",
       "        "
      ],
      "text/plain": [
       "<SparkContext master=local[*] appName=PySparkShell>"
      ]
     },
     "execution_count": 2,
     "metadata": {},
     "output_type": "execute_result"
    }
   ],
   "source": [
    "sc"
   ]
  },
  {
   "cell_type": "markdown",
   "metadata": {
    "collapsed": false
   },
   "source": [
    "# Importing Data\n",
    "For this analysis, data for Yellow taxi has been collected for a duration of 6 months (~10 GB)\n",
    "\n",
    "Six months of data were downloaded from the from the New York City Taxi Cab website and uploaded to the cluster. Each month was originally downloaded as a CSV file and transformed into an RDD. The six RDDs were then merged using an sc.union function to form one data set comprising all six months of data. A pyspark SQL context was then initialized."
   ]
  },
  {
   "cell_type": "code",
   "execution_count": 3,
   "metadata": {
    "collapsed": true
   },
   "outputs": [],
   "source": [
    "data1 = sc.textFile('file:////home/hadoop/workspaces/traffic_trip_duration_prediction/data/yellow_tripdata_2016-01.csv')\n",
    "# data1 = sc.textFile('hdfs://hfut/dbtraffic/dataset/yellow_tripdata_2016-01.csv')\n",
    "# data2 = sc.textFile('hdfs://hfut/dbtraffic/dataset/yellow_tripdata_2016-02.csv')\n",
    "# data3 = sc.textFile('hdfs://hfut/dbtraffic/dataset/yellow_tripdata_2016-03.csv')\n",
    "# data4 = sc.textFile('hdfs://hfut/dbtraffic/dataset/data/yellow_tripdata_2016-04.csv')\n",
    "# data5 = sc.textFile('hdfs://hfut/dbtraffic/dataset/data/yellow_tripdata_2016-05.csv')\n",
    "# data6 = sc.textFile('hdfs://hfut/dbtraffic/dataset/data/yellow_tripdata_2016-06.csv')\n",
    "myRDDlist = [data1]"
   ]
  },
  {
   "cell_type": "code",
   "execution_count": 4,
   "metadata": {
    "collapsed": false
   },
   "outputs": [
    {
     "data": {
      "text/plain": [
       "9999"
      ]
     },
     "execution_count": 4,
     "metadata": {},
     "output_type": "execute_result"
    }
   ],
   "source": [
    "data1.count()"
   ]
  },
  {
   "cell_type": "markdown",
   "metadata": {},
   "source": [
    "# Data Preparation\n",
    "The RDD was converted to a spark sql dataframe to be used in analysis."
   ]
  },
  {
   "cell_type": "code",
   "execution_count": 5,
   "metadata": {
    "collapsed": true
   },
   "outputs": [],
   "source": [
    "def convert_to_dataframe(data):\n",
    "    trans = data.map(lambda x: x.encode(\"utf8\", \"ignore\"))\n",
    "    tagsheader = trans.first()\n",
    "    header = sc.parallelize([tagsheader])\n",
    "    trans_data = trans.subtract(header)\n",
    "    tuple_data = trans_data.map(lambda x: tuple(str(x).split(\",\")))\n",
    "    df = tuple_data.toDF([\"VendorID\",\"tpep_pickup_datetime\",\"tpep_dropoff_datetime\",\"passenger_count\",\"trip_distance\",\\\n",
    "                 \"pickup_longitude\",\"pickup_latitude\",\"RatecodeID\",\"store_and_fwd_flag\",\"dropoff_longitude\",\\\n",
    "                 \"dropoff_latitude\",\"payment_type\",\"fare_amount\",\"extra\",\"mta_tax\",\"tip_amount\",\"tolls_amount\",\\\n",
    "                 \"improvement_surcharge\",\"total_amount\"])\n",
    "    \n",
    "    return df"
   ]
  },
  {
   "cell_type": "markdown",
   "metadata": {},
   "source": [
    "# Data Cleaning\n",
    "The datatypes of the columns need to be changed to float type. There are also trips greater than 20 miles which are discarded from the analysis."
   ]
  },
  {
   "cell_type": "code",
   "execution_count": 6,
   "metadata": {
    "collapsed": true
   },
   "outputs": [],
   "source": [
    "def clean_and_filter(df):\n",
    "    ## Converting to appropriate datatypes\n",
    "    df = df.withColumn('pickup_longitude', df['pickup_longitude'].cast('float'))\n",
    "    df = df.withColumn('pickup_latitude', df['pickup_latitude'].cast('float'))\n",
    "    df = df.withColumn('dropoff_longitude', df['dropoff_longitude'].cast('float'))\n",
    "    df = df.withColumn('dropoff_latitude', df['dropoff_latitude'].cast('float'))\n",
    "    df = df.withColumn('trip_distance', df['trip_distance'].cast('float'))\n",
    "    # removing Outliers ( Checked the distribution of the distance -- Removing distance greater than 20 miles)\n",
    "    df = df.filter(df.trip_distance<20.0)\n",
    "    ## Dropping null rows\n",
    "    df = df.na.drop()\n",
    "    return df"
   ]
  },
  {
   "cell_type": "code",
   "execution_count": 7,
   "metadata": {
    "collapsed": false
   },
   "outputs": [],
   "source": [
    "# Enumerating all Data Frames into a single Data Frame\n",
    "\n",
    "# final_df = pd.DataFrame()\n",
    "# for rdd_no in range(len(myRDDlist)):\n",
    "#     df = convert_to_dataframe(myRDDlist[rdd_no])\n",
    "#     df = clean_and_filter(df)\n",
    "#     final_df = final_df.append(df)\n",
    "df = convert_to_dataframe(data1)\n",
    "df = clean_and_filter(df)"
   ]
  },
  {
   "cell_type": "markdown",
   "metadata": {},
   "source": [
    "# Feature Engineering\n",
    "## Computing Average Speed\n",
    "Average traffic speed can be a good indicator of underlying traffic and can be a good predictor of trip duration. Two new variables were added; avg_speed and duration in minutes, for each observation by Trip_distance/(duration_in_mins).\n",
    "## Additional Features\n",
    "Information about the weekday/weekend can also prove detrimental in determing the trip duration."
   ]
  },
  {
   "cell_type": "code",
   "execution_count": 8,
   "metadata": {
    "collapsed": false
   },
   "outputs": [],
   "source": [
    "## Computing Speed\n",
    "format = 'yyyy-MM-dd HH:mm:ss'\n",
    "timeDiff = (F.unix_timestamp('tpep_dropoff_datetime', format)\n",
    "            - F.unix_timestamp('tpep_pickup_datetime', format)) / 60\n",
    "df = df.withColumn(\"tpep_pickup_datetime\", from_unixtime(unix_timestamp(df.tpep_pickup_datetime, \"yyyy-MM-dd HH:mm:ss\")))\n",
    "df = df.withColumn(\"pickup_hr\",hour(df.tpep_pickup_datetime))\n",
    "df = df.withColumn(\"Duration_in_mins\", timeDiff)\n",
    "df = df.withColumn(\"Speed_mph\",df.trip_distance/ ((df.Duration_in_mins)/60))\n",
    "df = df.withColumn(\"pickup_month\",month(df.tpep_pickup_datetime))"
   ]
  },
  {
   "cell_type": "code",
   "execution_count": 9,
   "metadata": {
    "collapsed": true
   },
   "outputs": [],
   "source": [
    "## Computing day of the week by using a User Defined Function\n",
    "def get_weekday(date):\n",
    "    import datetime\n",
    "    import calendar\n",
    "    date = date.split(' ')[0]\n",
    "    year,month,day = (int(x) for x in date.split('-'))    \n",
    "    weekday = datetime.date(year, month, day)\n",
    "    return calendar.day_name[weekday.weekday()]"
   ]
  },
  {
   "cell_type": "code",
   "execution_count": 10,
   "metadata": {
    "collapsed": true
   },
   "outputs": [],
   "source": [
    "weekday_udf = udf(get_weekday)\n",
    "df = df.withColumn('pickup_day', weekday_udf(df.tpep_pickup_datetime))\n",
    "## Fititng K means Model \n",
    "from pyspark.ml.feature import VectorAssembler\n",
    "### Converting lat long to float values\n",
    "df = df.withColumn('pickup_longitude', df['pickup_longitude'].cast('float'))\n",
    "df = df.withColumn('pickup_latitude', df['pickup_latitude'].cast('float'))\n",
    "df = df.withColumn('dropoff_longitude', df['dropoff_longitude'].cast('float'))\n",
    "df = df.withColumn('dropoff_latitude', df['dropoff_latitude'].cast('float'))"
   ]
  },
  {
   "cell_type": "code",
   "execution_count": 13,
   "metadata": {
    "collapsed": true
   },
   "outputs": [],
   "source": [
    "vecAssembler = VectorAssembler(inputCols=[\"dropoff_latitude\", \"dropoff_longitude\"], outputCol=\"features\")\n",
    "new_df = vecAssembler.transform(df)"
   ]
  },
  {
   "cell_type": "code",
   "execution_count": 17,
   "metadata": {
    "collapsed": false
   },
   "outputs": [
    {
     "data": {
      "text/plain": [
       "['VendorID',\n",
       " 'tpep_pickup_datetime',\n",
       " 'tpep_dropoff_datetime',\n",
       " 'passenger_count',\n",
       " 'trip_distance',\n",
       " 'pickup_longitude',\n",
       " 'pickup_latitude',\n",
       " 'RatecodeID',\n",
       " 'store_and_fwd_flag',\n",
       " 'dropoff_longitude',\n",
       " 'dropoff_latitude',\n",
       " 'payment_type',\n",
       " 'fare_amount',\n",
       " 'extra',\n",
       " 'mta_tax',\n",
       " 'tip_amount',\n",
       " 'tolls_amount',\n",
       " 'improvement_surcharge',\n",
       " 'total_amount',\n",
       " 'pickup_hr',\n",
       " 'Duration_in_mins',\n",
       " 'Speed_mph',\n",
       " 'pickup_month',\n",
       " 'pickup_day']"
      ]
     },
     "execution_count": 17,
     "metadata": {},
     "output_type": "execute_result"
    }
   ],
   "source": [
    "df.columns"
   ]
  },
  {
   "cell_type": "code",
   "execution_count": 15,
   "metadata": {
    "collapsed": false
   },
   "outputs": [
    {
     "data": {
      "text/plain": [
       "['VendorID',\n",
       " 'tpep_pickup_datetime',\n",
       " 'tpep_dropoff_datetime',\n",
       " 'passenger_count',\n",
       " 'trip_distance',\n",
       " 'pickup_longitude',\n",
       " 'pickup_latitude',\n",
       " 'RatecodeID',\n",
       " 'store_and_fwd_flag',\n",
       " 'dropoff_longitude',\n",
       " 'dropoff_latitude',\n",
       " 'payment_type',\n",
       " 'fare_amount',\n",
       " 'extra',\n",
       " 'mta_tax',\n",
       " 'tip_amount',\n",
       " 'tolls_amount',\n",
       " 'improvement_surcharge',\n",
       " 'total_amount',\n",
       " 'pickup_hr',\n",
       " 'Duration_in_mins',\n",
       " 'Speed_mph',\n",
       " 'pickup_month',\n",
       " 'pickup_day',\n",
       " 'features']"
      ]
     },
     "execution_count": 15,
     "metadata": {},
     "output_type": "execute_result"
    }
   ],
   "source": [
    "new_df.columns"
   ]
  },
  {
   "cell_type": "markdown",
   "metadata": {},
   "source": [
    "## Clustering into zones\n",
    "Traffic and trip duration can also be attributed to the location in the city. Certain regions in the city can have high traffic and thus can be a good indicator of trip duration. Pyspark ML library has KMEANS clustering modules and that can be used to get clusters for our data.\n",
    "\n",
    "The cluster information is uesd to create additional features such as:\n",
    "\n",
    "&nbsp;&nbsp;&nbsp;&nbsp;1.pickup cluster\n",
    "\n",
    "&nbsp;&nbsp;&nbsp;&nbsp;2.dropoff cluster"
   ]
  },
  {
   "cell_type": "code",
   "execution_count": 16,
   "metadata": {
    "collapsed": false
   },
   "outputs": [],
   "source": [
    "from pyspark.ml.clustering import KMeans\n",
    "\n",
    "kmeans = KMeans(k=15, seed=1)\n",
    "model = kmeans.fit(new_df.select('features'))"
   ]
  },
  {
   "cell_type": "code",
   "execution_count": 18,
   "metadata": {
    "collapsed": false
   },
   "outputs": [],
   "source": [
    "# Vecorizing and getting pickup clusters\n",
    "vecAssembler = VectorAssembler(inputCols=[\"pickup_latitude\", \"pickup_longitude\"], outputCol=\"features\")\n",
    "new_df = vecAssembler.transform(df)\n",
    "df_pickup = model.transform(new_df.select('features'))"
   ]
  },
  {
   "cell_type": "code",
   "execution_count": 26,
   "metadata": {
    "collapsed": true
   },
   "outputs": [],
   "source": [
    "# assigniung prediction to pickup cluster\n",
    "df_pickup = df_pickup.withColumnRenamed('prediction', 'pickup_cluster')\n",
    "df_pickup = df_pickup.drop('features')"
   ]
  },
  {
   "cell_type": "code",
   "execution_count": 31,
   "metadata": {
    "collapsed": true
   },
   "outputs": [],
   "source": [
    "df_pickup_pd = df_pickup.toPandas()"
   ]
  },
  {
   "cell_type": "code",
   "execution_count": 29,
   "metadata": {
    "collapsed": false
   },
   "outputs": [
    {
     "data": {
      "text/plain": [
       "['VendorID',\n",
       " 'tpep_pickup_datetime',\n",
       " 'tpep_dropoff_datetime',\n",
       " 'passenger_count',\n",
       " 'trip_distance',\n",
       " 'pickup_longitude',\n",
       " 'pickup_latitude',\n",
       " 'RatecodeID',\n",
       " 'store_and_fwd_flag',\n",
       " 'dropoff_longitude',\n",
       " 'dropoff_latitude',\n",
       " 'payment_type',\n",
       " 'fare_amount',\n",
       " 'extra',\n",
       " 'mta_tax',\n",
       " 'tip_amount',\n",
       " 'tolls_amount',\n",
       " 'improvement_surcharge',\n",
       " 'total_amount',\n",
       " 'pickup_hr',\n",
       " 'Duration_in_mins',\n",
       " 'Speed_mph',\n",
       " 'pickup_month',\n",
       " 'pickup_day']"
      ]
     },
     "execution_count": 29,
     "metadata": {},
     "output_type": "execute_result"
    }
   ],
   "source": [
    "df.columns"
   ]
  },
  {
   "cell_type": "code",
   "execution_count": 32,
   "metadata": {
    "collapsed": false
   },
   "outputs": [],
   "source": [
    "# Vecorizing and getting dropoff clusters\n",
    "vecAssembler = VectorAssembler(inputCols=[\"dropoff_latitude\", \"dropoff_longitude\"], outputCol=\"features\")\n",
    "new_df = vecAssembler.transform(df)\n",
    "df_dropoff = model.transform(new_df.select('features'))"
   ]
  },
  {
   "cell_type": "code",
   "execution_count": 33,
   "metadata": {
    "collapsed": false
   },
   "outputs": [],
   "source": [
    "# assigniung prediction to dropoff cluster\n",
    "df_dropoff = df_dropoff.withColumnRenamed('prediction', 'dropoff_cluster')\n",
    "df_dropoff = df_dropoff.drop('features')"
   ]
  },
  {
   "cell_type": "code",
   "execution_count": 45,
   "metadata": {
    "collapsed": false
   },
   "outputs": [],
   "source": [
    "df_dropoff_pd = df_dropoff.toPandas()"
   ]
  },
  {
   "cell_type": "markdown",
   "metadata": {},
   "source": [
    "# Visualizing the cluster\n",
    "The figure below the different clusters based on the lat/long of pickup co-ordinates."
   ]
  },
  {
   "cell_type": "code",
   "execution_count": 42,
   "metadata": {
    "collapsed": true
   },
   "outputs": [],
   "source": [
    "### Visualizing the clusters\n",
    "pd_df = df.toPandas()"
   ]
  },
  {
   "cell_type": "code",
   "execution_count": 43,
   "metadata": {
    "collapsed": true
   },
   "outputs": [],
   "source": [
    "pd_df['pickup_cluster'] = df_pickup_pd['pickup_cluster']"
   ]
  },
  {
   "cell_type": "code",
   "execution_count": null,
   "metadata": {
    "collapsed": true
   },
   "outputs": [],
   "source": [
    "pd_df = pd_df.sample(frac= 0.1)"
   ]
  },
  {
   "cell_type": "code",
   "execution_count": 47,
   "metadata": {
    "collapsed": false
   },
   "outputs": [],
   "source": [
    "pd_df['dropoff_cluster'] = df_dropoff_pd['dropoff_cluster']"
   ]
  },
  {
   "cell_type": "code",
   "execution_count": 41,
   "metadata": {
    "collapsed": false
   },
   "outputs": [
    {
     "data": {
      "text/plain": [
       "<seaborn.axisgrid.FacetGrid at 0x7f17c9deeba8>"
      ]
     },
     "execution_count": 41,
     "metadata": {},
     "output_type": "execute_result"
    },
    {
     "data": {
      "image/png": "[encoded data removed]",
      "text/plain": [
       "<matplotlib.figure.Figure at 0x7f17c9dee780>"
      ]
     },
     "metadata": {},
     "output_type": "display_data"
    }
   ],
   "source": [
    "sns.set_style(\"whitegrid\")\n",
    "sns.lmplot(x=\"pickup_latitude\", y=\"pickup_longitude\",data = pd_df,fit_reg=False,hue='pickup_cluster',size=10,scatter_kws={\"s\":100})"
   ]
  },
  {
   "cell_type": "markdown",
   "metadata": {},
   "source": [
    "# Predicting Trip Duration\n",
    "The features used for the prediction are converted to appropriated data types. Null values were dropped from the dataframe and then the data was split into training and test data sets\n",
    "\n",
    "A simple linear regression module of Pyspark's ML library was used to compute the Mean square errors and other measure parameters."
   ]
  },
  {
   "cell_type": "code",
   "execution_count": 49,
   "metadata": {
    "collapsed": false
   },
   "outputs": [
    {
     "data": {
      "text/plain": [
       "<seaborn.axisgrid.FacetGrid at 0x7f17ca77ba20>"
      ]
     },
     "execution_count": 49,
     "metadata": {},
     "output_type": "execute_result"
    },
    {
     "data": {
      "image/png": "[encoded data removed]",
      "text/plain": [
       "<matplotlib.figure.Figure at 0x7f17ca77b9b0>"
      ]
     },
     "metadata": {},
     "output_type": "display_data"
    }
   ],
   "source": [
    "sns.set_style(\"whitegrid\")\n",
    "sns.lmplot(x=\"dropoff_latitude\", y=\"dropoff_longitude\",data = pd_df,fit_reg=False,hue='dropoff_cluster',size=10,scatter_kws={\"s\":100})"
   ]
  },
  {
   "cell_type": "code",
   "execution_count": 48,
   "metadata": {
    "collapsed": false
   },
   "outputs": [
    {
     "data": {
      "text/html": [
       "<div>\n",
       "<table border=\"1\" class=\"dataframe\">\n",
       "  <thead>\n",
       "    <tr style=\"text-align: right;\">\n",
       "      <th></th>\n",
       "      <th>VendorID</th>\n",
       "      <th>tpep_pickup_datetime</th>\n",
       "      <th>tpep_dropoff_datetime</th>\n",
       "      <th>passenger_count</th>\n",
       "      <th>trip_distance</th>\n",
       "      <th>pickup_longitude</th>\n",
       "      <th>pickup_latitude</th>\n",
       "      <th>RatecodeID</th>\n",
       "      <th>store_and_fwd_flag</th>\n",
       "      <th>dropoff_longitude</th>\n",
       "      <th>...</th>\n",
       "      <th>tolls_amount</th>\n",
       "      <th>improvement_surcharge</th>\n",
       "      <th>total_amount</th>\n",
       "      <th>pickup_hr</th>\n",
       "      <th>Duration_in_mins</th>\n",
       "      <th>Speed_mph</th>\n",
       "      <th>pickup_month</th>\n",
       "      <th>pickup_day</th>\n",
       "      <th>pickup_cluster</th>\n",
       "      <th>dropoff_cluster</th>\n",
       "    </tr>\n",
       "  </thead>\n",
       "  <tbody>\n",
       "    <tr>\n",
       "      <th>0</th>\n",
       "      <td>b'2</td>\n",
       "      <td>2016-01-01 00:00:00</td>\n",
       "      <td>2016-01-01 00:00:00</td>\n",
       "      <td>1</td>\n",
       "      <td>10.54</td>\n",
       "      <td>-73.984550</td>\n",
       "      <td>40.679565</td>\n",
       "      <td>1</td>\n",
       "      <td>N</td>\n",
       "      <td>-73.950272</td>\n",
       "      <td>...</td>\n",
       "      <td>0</td>\n",
       "      <td>0.3</td>\n",
       "      <td>34.3'</td>\n",
       "      <td>0</td>\n",
       "      <td>0.000000</td>\n",
       "      <td>NaN</td>\n",
       "      <td>1</td>\n",
       "      <td>Friday</td>\n",
       "      <td>12</td>\n",
       "      <td>8</td>\n",
       "    </tr>\n",
       "    <tr>\n",
       "      <th>1</th>\n",
       "      <td>b'2</td>\n",
       "      <td>2016-01-01 00:00:02</td>\n",
       "      <td>2016-01-01 00:11:08</td>\n",
       "      <td>1</td>\n",
       "      <td>3.21</td>\n",
       "      <td>-73.998344</td>\n",
       "      <td>40.723896</td>\n",
       "      <td>1</td>\n",
       "      <td>N</td>\n",
       "      <td>-73.995850</td>\n",
       "      <td>...</td>\n",
       "      <td>0</td>\n",
       "      <td>0.3</td>\n",
       "      <td>12.8'</td>\n",
       "      <td>0</td>\n",
       "      <td>11.100000</td>\n",
       "      <td>17.351352</td>\n",
       "      <td>1</td>\n",
       "      <td>Friday</td>\n",
       "      <td>7</td>\n",
       "      <td>12</td>\n",
       "    </tr>\n",
       "    <tr>\n",
       "      <th>2</th>\n",
       "      <td>b'2</td>\n",
       "      <td>2016-01-01 00:00:03</td>\n",
       "      <td>2016-01-01 00:15:49</td>\n",
       "      <td>6</td>\n",
       "      <td>2.43</td>\n",
       "      <td>-73.969330</td>\n",
       "      <td>40.763538</td>\n",
       "      <td>1</td>\n",
       "      <td>N</td>\n",
       "      <td>-73.995689</td>\n",
       "      <td>...</td>\n",
       "      <td>0</td>\n",
       "      <td>0.3</td>\n",
       "      <td>17.29'</td>\n",
       "      <td>0</td>\n",
       "      <td>15.766667</td>\n",
       "      <td>9.247358</td>\n",
       "      <td>1</td>\n",
       "      <td>Friday</td>\n",
       "      <td>14</td>\n",
       "      <td>5</td>\n",
       "    </tr>\n",
       "    <tr>\n",
       "      <th>3</th>\n",
       "      <td>b'1</td>\n",
       "      <td>2016-01-01 00:00:05</td>\n",
       "      <td>2016-01-01 00:14:27</td>\n",
       "      <td>2</td>\n",
       "      <td>2.20</td>\n",
       "      <td>-73.991997</td>\n",
       "      <td>40.718578</td>\n",
       "      <td>1</td>\n",
       "      <td>N</td>\n",
       "      <td>-74.005135</td>\n",
       "      <td>...</td>\n",
       "      <td>0</td>\n",
       "      <td>0.3</td>\n",
       "      <td>13.8'</td>\n",
       "      <td>0</td>\n",
       "      <td>14.366667</td>\n",
       "      <td>9.187935</td>\n",
       "      <td>1</td>\n",
       "      <td>Friday</td>\n",
       "      <td>7</td>\n",
       "      <td>7</td>\n",
       "    </tr>\n",
       "    <tr>\n",
       "      <th>4</th>\n",
       "      <td>b'2</td>\n",
       "      <td>2016-01-01 00:00:05</td>\n",
       "      <td>2016-01-01 00:07:17</td>\n",
       "      <td>1</td>\n",
       "      <td>0.54</td>\n",
       "      <td>-73.985161</td>\n",
       "      <td>40.768951</td>\n",
       "      <td>1</td>\n",
       "      <td>N</td>\n",
       "      <td>-73.990227</td>\n",
       "      <td>...</td>\n",
       "      <td>0</td>\n",
       "      <td>0.3</td>\n",
       "      <td>7.3'</td>\n",
       "      <td>0</td>\n",
       "      <td>7.200000</td>\n",
       "      <td>4.500000</td>\n",
       "      <td>1</td>\n",
       "      <td>Friday</td>\n",
       "      <td>14</td>\n",
       "      <td>5</td>\n",
       "    </tr>\n",
       "  </tbody>\n",
       "</table>\n",
       "<p>5 rows × 26 columns</p>\n",
       "</div>"
      ],
      "text/plain": [
       "  VendorID tpep_pickup_datetime tpep_dropoff_datetime passenger_count  \\\n",
       "0      b'2  2016-01-01 00:00:00   2016-01-01 00:00:00               1   \n",
       "1      b'2  2016-01-01 00:00:02   2016-01-01 00:11:08               1   \n",
       "2      b'2  2016-01-01 00:00:03   2016-01-01 00:15:49               6   \n",
       "3      b'1  2016-01-01 00:00:05   2016-01-01 00:14:27               2   \n",
       "4      b'2  2016-01-01 00:00:05   2016-01-01 00:07:17               1   \n",
       "\n",
       "   trip_distance  pickup_longitude  pickup_latitude RatecodeID  \\\n",
       "0          10.54        -73.984550        40.679565          1   \n",
       "1           3.21        -73.998344        40.723896          1   \n",
       "2           2.43        -73.969330        40.763538          1   \n",
       "3           2.20        -73.991997        40.718578          1   \n",
       "4           0.54        -73.985161        40.768951          1   \n",
       "\n",
       "  store_and_fwd_flag  dropoff_longitude       ...         tolls_amount  \\\n",
       "0                  N         -73.950272       ...                    0   \n",
       "1                  N         -73.995850       ...                    0   \n",
       "2                  N         -73.995689       ...                    0   \n",
       "3                  N         -74.005135       ...                    0   \n",
       "4                  N         -73.990227       ...                    0   \n",
       "\n",
       "  improvement_surcharge total_amount pickup_hr Duration_in_mins  Speed_mph  \\\n",
       "0                   0.3        34.3'         0         0.000000        NaN   \n",
       "1                   0.3        12.8'         0        11.100000  17.351352   \n",
       "2                   0.3       17.29'         0        15.766667   9.247358   \n",
       "3                   0.3        13.8'         0        14.366667   9.187935   \n",
       "4                   0.3         7.3'         0         7.200000   4.500000   \n",
       "\n",
       "  pickup_month pickup_day pickup_cluster  dropoff_cluster  \n",
       "0            1     Friday             12                8  \n",
       "1            1     Friday              7               12  \n",
       "2            1     Friday             14                5  \n",
       "3            1     Friday              7                7  \n",
       "4            1     Friday             14                5  \n",
       "\n",
       "[5 rows x 26 columns]"
      ]
     },
     "execution_count": 48,
     "metadata": {},
     "output_type": "execute_result"
    }
   ],
   "source": [
    "pd_df.head()"
   ]
  },
  {
   "cell_type": "code",
   "execution_count": 50,
   "metadata": {
    "collapsed": true
   },
   "outputs": [],
   "source": [
    "df = sqlContext.createDataFrame(pd_df)"
   ]
  },
  {
   "cell_type": "code",
   "execution_count": 51,
   "metadata": {
    "collapsed": false
   },
   "outputs": [
    {
     "name": "stdout",
     "output_type": "stream",
     "text": [
      "passenger_count\n",
      "0\n",
      "trip_distance\n",
      "0\n",
      "RatecodeID\n",
      "0\n",
      "payment_type\n",
      "0\n",
      "fare_amount\n",
      "0\n",
      "extra\n",
      "0\n",
      "mta_tax\n",
      "0\n",
      "tip_amount\n",
      "0\n",
      "tolls_amount\n",
      "0\n",
      "improvement_surcharge\n",
      "0\n",
      "pickup_cluster\n",
      "0\n",
      "dropoff_cluster\n",
      "0\n",
      "pickup_hr\n",
      "0\n",
      "Speed_mph\n",
      "0\n",
      "RMSE: 51.419\n",
      "MSE: 2643.909\n",
      "MAE: 6.283\n",
      "r2: 0.002\n"
     ]
    }
   ],
   "source": [
    "df = df.withColumn('VendorID', df['VendorID'].cast('double'))\n",
    "df = df.withColumn('passenger_count', df['passenger_count'].cast('double'))\n",
    "df = df.withColumn('trip_distance', df['trip_distance'].cast('double'))\n",
    "df = df.withColumn('RatecodeID', df['RatecodeID'].cast('double'))\n",
    "df = df.withColumn('store_and_fwd_flag', df['store_and_fwd_flag'].cast('double'))\n",
    "df = df.withColumn('payment_type', df['payment_type'].cast('double'))\n",
    "df = df.withColumn('fare_amount', df['fare_amount'].cast('double'))\n",
    "df = df.withColumn('extra', df['extra'].cast('double'))\n",
    "df = df.withColumn('mta_tax', df['mta_tax'].cast('double'))\n",
    "df = df.withColumn('tip_amount', df['tip_amount'].cast('double'))\n",
    "df = df.withColumn('tolls_amount', df['tolls_amount'].cast('double'))\n",
    "df = df.withColumn('improvement_surcharge', df['improvement_surcharge'].cast('double'))\n",
    "df = df.withColumn('total_amount', df['total_amount'].cast('double'))\n",
    "## Importing ML libraries\n",
    "from pyspark.ml.regression import LinearRegression  \n",
    "from pyspark.ml.feature import VectorAssembler  \n",
    "from pyspark.ml.feature import StandardScaler  \n",
    "from pyspark.ml import Pipeline  \n",
    "from pyspark.sql.functions import *  \n",
    "\n",
    "features = ['passenger_count', 'trip_distance', \\\n",
    "            'RatecodeID', 'payment_type', 'fare_amount', 'extra', 'mta_tax', 'tip_amount', 'tolls_amount',\\\n",
    "            'improvement_surcharge', 'pickup_cluster', 'dropoff_cluster', 'pickup_hr', 'Speed_mph']  \n",
    "lr_data = df.select(col(\"Duration_in_mins\").alias(\"label\"), *features) \n",
    "\n",
    "## check for Null Values and dropping null values if any\n",
    "for f in features:\n",
    "    print (f)\n",
    "    print (lr_data.where(col(f).isNull()).count())\n",
    "    \n",
    "lr_data = lr_data.dropna()\n",
    "\n",
    "(training, test) = lr_data.randomSplit([.7, .3])\n",
    "\n",
    "vectorAssembler = VectorAssembler(inputCols=features, outputCol=\"unscaled_features\")  \n",
    "standardScaler = StandardScaler(inputCol=\"unscaled_features\", outputCol=\"features\")  \n",
    "lr = LinearRegression(maxIter=10, regParam=.01)\n",
    "\n",
    "stages = [vectorAssembler, standardScaler, lr]  \n",
    "pipeline = Pipeline(stages=stages) \n",
    "\n",
    "model = pipeline.fit(training)  \n",
    "prediction = model.transform(test)\n",
    "\n",
    "from pyspark.ml.evaluation import RegressionEvaluator  \n",
    "eval = RegressionEvaluator(labelCol=\"label\", predictionCol=\"prediction\", metricName=\"rmse\")\n",
    "\n",
    "# Root Mean Square Error\n",
    "rmse = eval.evaluate(prediction)  \n",
    "print(\"RMSE: %.3f\" % rmse)\n",
    "\n",
    "# Mean Square Error\n",
    "mse = eval.evaluate(prediction, {eval.metricName: \"mse\"})  \n",
    "print(\"MSE: %.3f\" % mse)\n",
    "\n",
    "# Mean Absolute Error\n",
    "mae = eval.evaluate(prediction, {eval.metricName: \"mae\"})  \n",
    "print(\"MAE: %.3f\" % mae)\n",
    "\n",
    "# r2 - coefficient of determination\n",
    "r2 = eval.evaluate(prediction, {eval.metricName: \"r2\"})  \n",
    "print(\"r2: %.3f\" %r2)"
   ]
  },
  {
   "cell_type": "code",
   "execution_count": null,
   "metadata": {
    "collapsed": true
   },
   "outputs": [],
   "source": []
  }
 ],
 "metadata": {
  "kernelspec": {
   "display_name": "Python 3",
   "language": "python",
   "name": "python3"
  },
  "language_info": {
   "codemirror_mode": {
    "name": "ipython",
    "version": 3
   },
   "file_extension": ".py",
   "mimetype": "text/x-python",
   "name": "python",
   "nbconvert_exporter": "python",
   "pygments_lexer": "ipython3",
   "version": "3.6.0"
  }
 },
 "nbformat": 4,
 "nbformat_minor": 2
}
