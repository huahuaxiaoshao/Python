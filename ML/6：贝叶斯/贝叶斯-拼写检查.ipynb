{
 "cells": [
  {
   "cell_type": "markdown",
   "metadata": {},
   "source": [
    "###  贝叶斯拼写检查器 ###"
   ]
  },
  {
   "cell_type": "code",
   "execution_count": 36,
   "metadata": {},
   "outputs": [],
   "source": [
    "import re,collections\n",
    "def works(text):\n",
    "    return re.findall('[a-z]+',text.lower())\n",
    "\n",
    "def train(features):\n",
    "    model = collections.defaultdict(lambda: 1)\n",
    "    for f in features:\n",
    "        model[f] += 1\n",
    "    return model\n",
    "NWORDS = train(works(open('big.txt').read()))\n",
    "alphabet = 'abcdefghijklmnopqrstuvwxyz'\n",
    "def edits1(word):\n",
    "    n = len(word)\n",
    "    return set([word[0:i]+word[i+1:] for i in range(n)] +                     # deletion\n",
    "               [word[0:i]+word[i+1]+word[i]+word[i+2:] for i in range(n-1)] + # transposition\n",
    "               [word[0:i]+c+word[i+1:] for i in range(n) for c in alphabet] + # alteration\n",
    "               [word[0:i]+c+word[i:] for i in range(n+1) for c in alphabet])  # insertion\n",
    "\n",
    "def known_edits2(word):\n",
    "    return set(e2 for e1 in edits1(word) for e2 in edits1(e1) if e2 in NWORDS)\n",
    "\n",
    "def known(words):\n",
    "    return set(w for w in words if w in NWORDS)\n",
    "\n",
    "def correct(word):\n",
    "    candidates = known([word]) or known(edits1(word)) or known_edits2(word) or [word]\n",
    "    return max(candidates,key=lambda w: NWORDS[w])"
   ]
  },
  {
   "cell_type": "code",
   "execution_count": 37,
   "metadata": {},
   "outputs": [
    {
     "data": {
      "text/plain": [
       "'know'"
      ]
     },
     "execution_count": 37,
     "metadata": {},
     "output_type": "execute_result"
    }
   ],
   "source": [
    "#appl #appla #learw #tess #morw\n",
    "correct('knon')"
   ]
  },
  {
   "cell_type": "markdown",
   "metadata": {},
   "source": [
    "### 求解：argmaxc P(c|w) -> argmaxc P(w|c) P(c) / P(w) ###\n",
    "\n",
    "* P(c), 文章中出现一个正确拼写词 c 的概率, 也就是说, 在英语文章中, c 出现的概率有多大\n",
    "* P(w|c), 在用户想键入 c 的情况下敲成 w 的概率. 因为这个是代表用户会以多大的概率把 c 敲错成 w\n",
    "* argmaxc, 用来枚举所有可能的 c 并且选取概率最大的"
   ]
  },
  {
   "cell_type": "code",
   "execution_count": 24,
   "metadata": {},
   "outputs": [],
   "source": [
    "# 把语料中的单词全部抽取出来，转成小写，并且去除单词中的特殊符号\n",
    "def words(text):\n",
    "    return re.findall('[a-z]',text.lower())\n",
    "\n",
    "def train(features):\n",
    "    model = collections.defaultdict(lambda :1)\n",
    "    for f in features:\n",
    "        model[f] += 1\n",
    "    return model\n",
    "\n",
    "NWORDS = train(words(open('big.txt').read()))"
   ]
  },
  {
   "cell_type": "markdown",
   "metadata": {},
   "source": [
    "要是遇到我们从来没有遇到的新闻怎么办，假如说一个词拼写完全正确，但是语料中没有包含这个词，从而这个词也永远不会出现在训练集中。于是，我们就要返回出现这个词的概率为0.这种情况不太妙，因为概率为0代表了这个事件绝对不可能发生，而在我们的概率模型中，我们期望用一个很小的概率来代表这种情况。lamda:1"
   ]
  },
  {
   "cell_type": "code",
   "execution_count": 25,
   "metadata": {},
   "outputs": [
    {
     "data": {
      "text/plain": [
       "defaultdict(<function __main__.train.<locals>.<lambda>()>,\n",
       "            {'t': 460735,\n",
       "             'h': 294682,\n",
       "             'e': 633813,\n",
       "             'p': 98911,\n",
       "             'r': 309546,\n",
       "             'o': 386861,\n",
       "             'j': 6437,\n",
       "             'c': 144965,\n",
       "             'g': 96908,\n",
       "             'u': 138733,\n",
       "             'n': 369005,\n",
       "             'b': 73162,\n",
       "             'k': 32799,\n",
       "             'f': 120871,\n",
       "             'a': 408084,\n",
       "             'd': 215699,\n",
       "             'v': 52379,\n",
       "             's': 334892,\n",
       "             'l': 198645,\n",
       "             'm': 127062,\n",
       "             'y': 90482,\n",
       "             'i': 365619,\n",
       "             'w': 100832,\n",
       "             'x': 9808,\n",
       "             'z': 3797,\n",
       "             'q': 4572})"
      ]
     },
     "execution_count": 25,
     "metadata": {},
     "output_type": "execute_result"
    }
   ],
   "source": [
    "NWORDS"
   ]
  },
  {
   "cell_type": "markdown",
   "metadata": {},
   "source": [
    "###  编辑距离: ###\n",
    "两个词之间的编辑距离定义为使用了几次插入（在词中插入一个单字母），删除（删除一个单字母），交换（交换相邻两个字母），替换（把一个字母换成另一个）的操作，从一个词变到另一个词。"
   ]
  },
  {
   "cell_type": "code",
   "execution_count": 44,
   "metadata": {},
   "outputs": [],
   "source": [
    "# 返回所有与单词word编辑距离为1的集合\n",
    "def edits1(word):\n",
    "    n = len(word)\n",
    "    return set([word[0:i]+word[i+1:] for i in range(n)] +                     # deletion删除\n",
    "               [word[0:i]+word[i+1]+word[i]+word[i+2:] for i in range(n-1)] + # transposition交换 \n",
    "               [word[0:i]+c+word[i+1:] for i in range(n) for c in alphabet] + # alteration修改替换\n",
    "               [word[0:i]+c+word[i:] for i in range(n+1) for c in alphabet])  # insertion插入"
   ]
  },
  {
   "cell_type": "code",
   "execution_count": 45,
   "metadata": {},
   "outputs": [
    {
     "data": {
      "text/plain": [
       "494"
      ]
     },
     "execution_count": 45,
     "metadata": {},
     "output_type": "execute_result"
    }
   ],
   "source": [
    "len(edits1('something'))"
   ]
  },
  {
   "cell_type": "markdown",
   "metadata": {},
   "source": [
    "与something编辑距离为1的单词达到了494个"
   ]
  },
  {
   "cell_type": "code",
   "execution_count": 31,
   "metadata": {},
   "outputs": [],
   "source": [
    "#返回所有与单词 w 编辑距离为 2 的集合\n",
    "#在这些编辑距离小于2的词中间, 只把那些正确的词作为候选词\n",
    "def edits2(word):\n",
    "    return set(e2 for e1 in edits1(word) for e2 in edits1(e1))"
   ]
  },
  {
   "cell_type": "code",
   "execution_count": 33,
   "metadata": {},
   "outputs": [
    {
     "data": {
      "text/plain": [
       "114324"
      ]
     },
     "execution_count": 33,
     "metadata": {},
     "output_type": "execute_result"
    }
   ],
   "source": [
    "len(edits2('something'))"
   ]
  },
  {
   "cell_type": "markdown",
   "metadata": {},
   "source": [
    "与something编辑距离为2的单词居然达到了114324个\n",
    "\n",
    "优化：在这些编辑距离小于2的词中间，只把那些正确的词作为候选词，只能返回3个单词：‘smoothing’, ‘something’ 和 ‘soothing’"
   ]
  },
  {
   "cell_type": "markdown",
   "metadata": {},
   "source": [
    "正常来说把一个元音拼成另一个元音的概率要大于辅音（因为人常常把hello打成hallo这样）；把单词的第一个字母拼错的概率会相对小一些，等等。但是为了简单起见，选择了一个简单的方法：编辑距离为1的正确单词比编辑距离为2的单词优先级高，而编辑距离为0的正确单词优先级比编辑距离为1的高。"
   ]
  },
  {
   "cell_type": "code",
   "execution_count": 47,
   "metadata": {},
   "outputs": [],
   "source": [
    "def known(words):\n",
    "    return set(w for w in words if w in NWORDS)\n",
    "\n",
    "#如果known(set)非空, candidate 就会选取这个集合, 而不继续计算后面的\n",
    "def correct(word):\n",
    "    candidates = known([word]) or known(edits1(word)) or known(edits2(word)) or word\n",
    "    print(candidates)\n",
    "    return max(candidates,key=lambda w:NWORDS[w])"
   ]
  },
  {
   "cell_type": "code",
   "execution_count": 48,
   "metadata": {},
   "outputs": [
    {
     "name": "stdout",
     "output_type": "stream",
     "text": [
      "{'knox', 'knot', 'knob', 'know'}\n"
     ]
    },
    {
     "data": {
      "text/plain": [
       "'know'"
      ]
     },
     "execution_count": 48,
     "metadata": {},
     "output_type": "execute_result"
    }
   ],
   "source": [
    "correct('knoq')"
   ]
  },
  {
   "cell_type": "code",
   "execution_count": 53,
   "metadata": {},
   "outputs": [
    {
     "data": {
      "text/plain": [
       "1049"
      ]
     },
     "execution_count": 53,
     "metadata": {},
     "output_type": "execute_result"
    }
   ],
   "source": [
    "NWORDS['know']"
   ]
  },
  {
   "cell_type": "code",
   "execution_count": 51,
   "metadata": {},
   "outputs": [
    {
     "data": {
      "text/plain": [
       "3"
      ]
     },
     "execution_count": 51,
     "metadata": {},
     "output_type": "execute_result"
    }
   ],
   "source": [
    "NWORDS['knox']"
   ]
  },
  {
   "cell_type": "code",
   "execution_count": 52,
   "metadata": {},
   "outputs": [
    {
     "data": {
      "text/plain": [
       "17"
      ]
     },
     "execution_count": 52,
     "metadata": {},
     "output_type": "execute_result"
    }
   ],
   "source": [
    "NWORDS['knot']"
   ]
  },
  {
   "cell_type": "code",
   "execution_count": 54,
   "metadata": {},
   "outputs": [
    {
     "data": {
      "text/plain": [
       "3"
      ]
     },
     "execution_count": 54,
     "metadata": {},
     "output_type": "execute_result"
    }
   ],
   "source": [
    "NWORDS['knob']"
   ]
  },
  {
   "cell_type": "code",
   "execution_count": null,
   "metadata": {},
   "outputs": [],
   "source": []
  }
 ],
 "metadata": {
  "kernelspec": {
   "display_name": "Python 3",
   "language": "python",
   "name": "python3"
  },
  "language_info": {
   "codemirror_mode": {
    "name": "ipython",
    "version": 3
   },
   "file_extension": ".py",
   "mimetype": "text/x-python",
   "name": "python",
   "nbconvert_exporter": "python",
   "pygments_lexer": "ipython3",
   "version": "3.6.2"
  }
 },
 "nbformat": 4,
 "nbformat_minor": 2
}
